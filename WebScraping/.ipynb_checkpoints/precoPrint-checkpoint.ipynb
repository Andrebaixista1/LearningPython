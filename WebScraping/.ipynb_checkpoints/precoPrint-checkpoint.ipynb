{
 "cells": [
  {
   "cell_type": "code",
   "execution_count": 1,
   "metadata": {},
   "outputs": [],
   "source": [
    "import pandas as pd\n",
    "import time \n",
    "from selenium import webdriver\n",
    "from selenium.webdriver.common.keys import Keys\n",
    "from time import sleep\n",
    "\n",
    "navegador = webdriver.Chrome(executable_path=\"chromedriver.exe\")\n",
    "\n",
    "\n",
    "# Convites de Casamento (Brilhoso) - 100 Uni. Frente e Verso - 16x22cm\n",
    "# def convites\n",
    "navegador.get('https://www.printi.com.br/configuracao-convite-de-casamento')\n",
    "\n",
    "time.sleep(10)"
   ]
  },
  {
   "cell_type": "code",
   "execution_count": 2,
   "metadata": {},
   "outputs": [],
   "source": [
    "\n",
    "# PERSONALIZADO\n",
    "personalizado1 = navegador.find_element_by_xpath('//*[@id=\"main\"]/div/div[2]/div[1]/main/div/div[2]/div/div[2]/label/div').click()\n",
    "time.sleep(2)\n",
    "# TAMANHO\n",
    "size1 = navegador.find_element_by_xpath('//*[@id=\"main\"]/div/div[2]/div[1]/main/div[2]/div[2]/div[2]/div/div[6]/label/img').click()\n",
    "time.sleep(2)\n",
    "# DIGITAR TAMANHO \n",
    "# digitarTamanho = navegador.find_element_by_xpath('//*[@id=\"main\"]/div/div[2]/div[1]/main/div[2]/div[2]/div[5]/div/div[2]/span[1]/label/input').click()\n",
    "# time.sleep(1)\n",
    "larguraConvite = navegador.find_element_by_xpath('//*[@id=\"main\"]/div/div[2]/div[1]/main/div[2]/div[2]/div[5]/div/div[2]/span[1]/label/input').send_keys('16' + Keys.TAB)\n",
    "alturaConvite = navegador.find_element_by_xpath('//*[@id=\"main\"]/div/div[2]/div[1]/main/div[2]/div[2]/div[5]/div/div[2]/span[2]/label').send_keys('22')\n",
    "confirma = navegador.find_element_by_xpath('//*[@id=\"main\"]/div/div[2]/div[1]/main/div[2]/div[2]/div[5]/div/div[3]/div[2]/button[2]').click()\n",
    "time.sleep(4)\n",
    "# IMPRESSÃO FRENTE E VERSO\n",
    "\n",
    "frenteEVerso = navegador.find_element_by_xpath('//*[@id=\"main\"]/div/div[2]/div[1]/main/div[2]/div[2]/div[3]/div/div[1]/label/div').click()\n",
    "time.sleep(2)\n",
    "\n",
    "# PAPEL COCHE BRILHOSO 300G\n",
    "\n",
    "brilhoso300g = navegador.find_element_by_xpath('//*[@id=\"main\"]/div/div[2]/div[1]/main/div[2]/div[2]/div[4]/div/div[2]/label/div').click()\n",
    "time.sleep(2)\n",
    "# ENOBRECIMENTO\n",
    "\n",
    "semEnobrecimento = navegador.find_element_by_xpath('//*[@id=\"main\"]/div/div[2]/div[1]/main/div[2]/div[2]/div[6]/div/div[2]/label/div').click()\n",
    "time.sleep(2)\n",
    "\n",
    "# EXTRAS\n",
    "\n",
    "semExtras = navegador.find_element_by_xpath('//*[@id=\"main\"]/div/div[2]/div[1]/main/div[2]/div[2]/div[7]/div/div[1]/label/div').click()\n",
    "time.sleep(5)\n"
   ]
  },
  {
   "cell_type": "code",
   "execution_count": 3,
   "metadata": {},
   "outputs": [],
   "source": [
    "\n",
    "# Calculo de Frete \n",
    "\n",
    "cep_frete = navegador.find_element_by_xpath('//*[@id=\"main\"]/div/div[2]/div[1]/main/div[3]/div[2]/div[2]/span/label/input').send_keys('02350003' + Keys.ENTER)\n",
    "# cep_frete = navegador.find_element_by_xpath('//*[@id=\"main\"]/div/div[2]/div[1]/main/div[3]/div[2]/div[2]/span/label/button/svg/g/path').click()\n",
    "time.sleep(10)\n",
    "quantidade100 = navegador.find_element_by_xpath('//*[@id=\"main\"]/div/div[2]/div[1]/main/div[3]/div[2]/div[4]/table/tbody/tr[2]/td[5]/label/span[1]').click()\n",
    "# quantidade = navegador.find_element_by_xpath('//*[@id=\"main\"]/div/div[2]/div[1]/main/div[3]/div[2]/div[4]/div/button/svg').click()\n",
    "# time.sleep(7)\n",
    "# quantidade = navegador.find_element_by_xpath('//*[@id=\"main\"]/div/div[2]/div[1]/main/div[3]/div[2]/div[4]/table[2]/tbody/tr/td[1]/span/label/input').send_keys('100')\n",
    "\n",
    "# quantidade = navegador.find_element_by_xpath('//*[@id=\"main\"]/div/div[2]/div[1]/main/div[3]/div[2]/div[4]/table[2]/tbody/tr/td[1]/span/label/button/svg').click()\n",
    "\n"
   ]
  },
  {
   "cell_type": "code",
   "execution_count": 16,
   "metadata": {},
   "outputs": [
    {
     "name": "stdout",
     "output_type": "stream",
     "text": [
      "Resumo\n",
      "Convites de Casamento (Brilhoso) - 100 Uni. Frente e Verso - 16x22cm\n",
      "Formato: (Pers.) 16 x 22 cm\n",
      "Impressão: Frente\n",
      "Cores: 4x0 (colorido)\n",
      "Papel: Couché Fosco 300g\n",
      "Acabamento: Refile\n",
      "Enobrecimento: Sem Enobrecimento\n",
      "Extras: Sem Extras\n"
     ]
    }
   ],
   "source": [
    "# RESUMO GERAL DOS DADOS\n",
    "\n",
    "sleep(5)\n",
    "produto = 'Convites de Casamento (Brilhoso) - 100 Uni. Frente e Verso - 16x22cm'\n",
    "formato = navegador.find_element_by_xpath('//*[@id=\"main\"]/div/div[2]/div[2]/div/div/div[1]/div[1]/div[1]/div/ul/li[1]')\n",
    "formato = formato.text\n",
    "\n",
    "\n",
    "impressao = navegador.find_element_by_xpath('//*[@id=\"main\"]/div/div[2]/div[2]/div/div/div[1]/div[1]/div[1]/div/ul/li[2]')\n",
    "impressao = impressao.text\n",
    "\n",
    "\n",
    "cores = navegador.find_element_by_xpath('//*[@id=\"main\"]/div/div[2]/div[2]/div/div/div[1]/div[1]/div[1]/div/ul/li[3]')\n",
    "cores = cores.text\n",
    "\n",
    "\n",
    "papel = navegador.find_element_by_xpath('//*[@id=\"main\"]/div/div[2]/div[2]/div/div/div[1]/div[1]/div[1]/div/ul/li[4]')\n",
    "papel = papel.text\n",
    "\n",
    "\n",
    "acabamento = navegador.find_element_by_xpath('//*[@id=\"main\"]/div/div[2]/div[2]/div/div/div[1]/div[1]/div[1]/div/ul/li[5]')\n",
    "acabamento = acabamento.text\n",
    "\n",
    "\n",
    "enobrecimento = navegador.find_element_by_xpath('//*[@id=\"main\"]/div/div[2]/div[2]/div/div/div[1]/div[1]/div[1]/div/ul/li[6]')\n",
    "enobrecimento = enobrecimento.text\n",
    "\n",
    "\n",
    "extras = navegador.find_element_by_xpath('//*[@id=\"main\"]/div/div[2]/div[2]/div/div/div[1]/div[1]/div[1]/div/ul/li[7]')\n",
    "extras = extras.text\n",
    "\n",
    "\n",
    "sleep(1)\n",
    "\n",
    "print('Resumo')\n",
    "# print(*-**5)\n",
    "print(produto)\n",
    "print(formato)\n",
    "print(impressao)\n",
    "print(cores)\n",
    "print(papel)\n",
    "print(acabamento)\n",
    "print(enobrecimento)\n",
    "print(extras)"
   ]
  }
 ],
 "metadata": {
  "interpreter": {
   "hash": "487aed39b7e524d9b03081b2d60b181ef65921096c1b2132cd0b1b1cf77982fa"
  },
  "kernelspec": {
   "display_name": "Python 3",
   "language": "python",
   "name": "python3"
  },
  "language_info": {
   "codemirror_mode": {
    "name": "ipython",
    "version": 3
   },
   "file_extension": ".py",
   "mimetype": "text/x-python",
   "name": "python",
   "nbconvert_exporter": "python",
   "pygments_lexer": "ipython3",
   "version": "3.8.8"
  }
 },
 "nbformat": 4,
 "nbformat_minor": 2
}
